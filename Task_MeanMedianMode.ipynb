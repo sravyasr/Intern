{
 "cells": [
  {
   "cell_type": "code",
   "execution_count": 1,
   "metadata": {},
   "outputs": [
    {
     "data": {
      "text/html": [
       "<div>\n",
       "<style scoped>\n",
       "    .dataframe tbody tr th:only-of-type {\n",
       "        vertical-align: middle;\n",
       "    }\n",
       "\n",
       "    .dataframe tbody tr th {\n",
       "        vertical-align: top;\n",
       "    }\n",
       "\n",
       "    .dataframe thead th {\n",
       "        text-align: right;\n",
       "    }\n",
       "</style>\n",
       "<table border=\"1\" class=\"dataframe\">\n",
       "  <thead>\n",
       "    <tr style=\"text-align: right;\">\n",
       "      <th></th>\n",
       "      <th>Date</th>\n",
       "      <th>Symbol</th>\n",
       "      <th>Series</th>\n",
       "      <th>OpenPrice</th>\n",
       "      <th>HighPrice</th>\n",
       "      <th>LowPrice</th>\n",
       "      <th>LastTradedPrice</th>\n",
       "      <th>ClosePrice</th>\n",
       "      <th>Total Traded Quantity</th>\n",
       "      <th>Turnover (in Lakhs)</th>\n",
       "    </tr>\n",
       "  </thead>\n",
       "  <tbody>\n",
       "    <tr>\n",
       "      <td>0</td>\n",
       "      <td>13-Apr-20</td>\n",
       "      <td>LT</td>\n",
       "      <td>EQ</td>\n",
       "      <td>812.80</td>\n",
       "      <td>872.40</td>\n",
       "      <td>807.95</td>\n",
       "      <td>864.4</td>\n",
       "      <td>865.45</td>\n",
       "      <td>9462929</td>\n",
       "      <td>80158.97</td>\n",
       "    </tr>\n",
       "    <tr>\n",
       "      <td>1</td>\n",
       "      <td>09-Apr-20</td>\n",
       "      <td>LT</td>\n",
       "      <td>EQ</td>\n",
       "      <td>834.35</td>\n",
       "      <td>834.35</td>\n",
       "      <td>804.40</td>\n",
       "      <td>805.0</td>\n",
       "      <td>812.80</td>\n",
       "      <td>6410629</td>\n",
       "      <td>52338.49</td>\n",
       "    </tr>\n",
       "    <tr>\n",
       "      <td>2</td>\n",
       "      <td>08-Apr-20</td>\n",
       "      <td>LT</td>\n",
       "      <td>EQ</td>\n",
       "      <td>804.00</td>\n",
       "      <td>832.00</td>\n",
       "      <td>797.70</td>\n",
       "      <td>808.0</td>\n",
       "      <td>807.10</td>\n",
       "      <td>6151093</td>\n",
       "      <td>50037.53</td>\n",
       "    </tr>\n",
       "    <tr>\n",
       "      <td>3</td>\n",
       "      <td>07-Apr-20</td>\n",
       "      <td>LT</td>\n",
       "      <td>EQ</td>\n",
       "      <td>805.00</td>\n",
       "      <td>813.00</td>\n",
       "      <td>791.00</td>\n",
       "      <td>802.2</td>\n",
       "      <td>801.65</td>\n",
       "      <td>5769216</td>\n",
       "      <td>46404.57</td>\n",
       "    </tr>\n",
       "    <tr>\n",
       "      <td>4</td>\n",
       "      <td>03-Apr-20</td>\n",
       "      <td>LT</td>\n",
       "      <td>EQ</td>\n",
       "      <td>791.10</td>\n",
       "      <td>791.10</td>\n",
       "      <td>762.80</td>\n",
       "      <td>783.0</td>\n",
       "      <td>774.65</td>\n",
       "      <td>4268501</td>\n",
       "      <td>33009.75</td>\n",
       "    </tr>\n",
       "  </tbody>\n",
       "</table>\n",
       "</div>"
      ],
      "text/plain": [
       "        Date  Symbol  Series  OpenPrice  HighPrice  LowPrice  \\\n",
       "0  13-Apr-20      LT      EQ     812.80     872.40    807.95   \n",
       "1  09-Apr-20      LT      EQ     834.35     834.35    804.40   \n",
       "2  08-Apr-20      LT      EQ     804.00     832.00    797.70   \n",
       "3  07-Apr-20      LT      EQ     805.00     813.00    791.00   \n",
       "4  03-Apr-20      LT      EQ     791.10     791.10    762.80   \n",
       "\n",
       "   LastTradedPrice   ClosePrice   Total Traded Quantity   Turnover (in Lakhs)  \n",
       "0             864.4      865.45                 9462929              80158.97  \n",
       "1             805.0      812.80                 6410629              52338.49  \n",
       "2             808.0      807.10                 6151093              50037.53  \n",
       "3             802.2      801.65                 5769216              46404.57  \n",
       "4             783.0      774.65                 4268501              33009.75  "
      ]
     },
     "execution_count": 1,
     "metadata": {},
     "output_type": "execute_result"
    }
   ],
   "source": [
    "import numpy as np\n",
    "import pandas as pd\n",
    "\n",
    "\n",
    "df=pd.read_csv('data.csv')\n",
    "df.head()"
   ]
  },
  {
   "cell_type": "code",
   "execution_count": 2,
   "metadata": {},
   "outputs": [
    {
     "name": "stdout",
     "output_type": "stream",
     "text": [
      "Mean Median Mode For OpenPrice is:\n",
      "Mean is: 837.1722222222222\n",
      "Median is: 810.9\n",
      "Mode is:\n",
      "0      697.20\n",
      "1      755.00\n",
      "2      787.75\n",
      "3      791.10\n",
      "4      801.00\n",
      "5      804.00\n",
      "6      805.00\n",
      "7      806.85\n",
      "8      809.00\n",
      "9      812.80\n",
      "10     820.00\n",
      "11     834.35\n",
      "12     849.00\n",
      "13     867.90\n",
      "14     873.90\n",
      "15     968.00\n",
      "16     972.00\n",
      "17    1014.25\n",
      "dtype: float64\n"
     ]
    }
   ],
   "source": [
    "print('Mean Median Mode For OpenPrice is:')\n",
    "print('Mean is:',df['OpenPrice'].mean())\n",
    "print('Median is:',df['OpenPrice'].median())\n",
    "print('Mode is:')\n",
    "print(df['OpenPrice'].mode())\n"
   ]
  },
  {
   "cell_type": "code",
   "execution_count": 3,
   "metadata": {},
   "outputs": [
    {
     "name": "stdout",
     "output_type": "stream",
     "text": [
      "Mean Median Mode For LowPrice is:\n",
      "Mean is: 799.3777777777777\n",
      "Median is: 794.45\n",
      "Mode is:\n",
      "0    791.0\n",
      "dtype: float64\n"
     ]
    }
   ],
   "source": [
    "print('Mean Median Mode For LowPrice is:')\n",
    "print('Mean is:',df['LowPrice'].mean())\n",
    "print('Median is:',df['LowPrice'].median())\n",
    "print('Mode is:')\n",
    "print(df['LowPrice'].mode())"
   ]
  },
  {
   "cell_type": "code",
   "execution_count": 4,
   "metadata": {},
   "outputs": [
    {
     "name": "stdout",
     "output_type": "stream",
     "text": [
      "Mean Median Mode For HighPrice is:\n",
      "Mean is: 858.3222222222222\n",
      "Median is: 833.175\n",
      "Mode is:\n",
      "0      755.75\n",
      "1      775.00\n",
      "2      791.10\n",
      "3      809.95\n",
      "4      812.40\n",
      "5      813.00\n",
      "6      815.00\n",
      "7      823.00\n",
      "8      832.00\n",
      "9      834.35\n",
      "10     842.30\n",
      "11     872.40\n",
      "12     877.80\n",
      "13     884.00\n",
      "14     890.00\n",
      "15     974.75\n",
      "16    1005.00\n",
      "17    1042.00\n",
      "dtype: float64\n"
     ]
    }
   ],
   "source": [
    "print('Mean Median Mode For HighPrice is:')\n",
    "print('Mean is:',df['HighPrice'].mean())\n",
    "print('Median is:',df['HighPrice'].median())\n",
    "print('Mode is:')\n",
    "print(df['HighPrice'].mode())"
   ]
  },
  {
   "cell_type": "code",
   "execution_count": 5,
   "metadata": {},
   "outputs": [
    {
     "name": "stdout",
     "output_type": "stream",
     "text": [
      "Mean Median Mode For LastTradedPrice is:\n",
      "Mean is: 825.2527777777779\n",
      "Median is: 809.05\n",
      "Mode is:\n",
      "0     710.00\n",
      "1     721.00\n",
      "2     769.00\n",
      "3     775.55\n",
      "4     783.00\n",
      "5     799.00\n",
      "6     802.20\n",
      "7     805.00\n",
      "8     808.00\n",
      "9     810.10\n",
      "10    839.00\n",
      "11    841.00\n",
      "12    842.30\n",
      "13    852.00\n",
      "14    864.40\n",
      "15    912.00\n",
      "16    953.00\n",
      "17    968.00\n",
      "dtype: float64\n"
     ]
    }
   ],
   "source": [
    "print('Mean Median Mode For LastTradedPrice is:')\n",
    "print('Mean is:',df['LastTradedPrice '].mean())\n",
    "print('Median is:',df['LastTradedPrice '].median())\n",
    "print('Mode is:')\n",
    "print(df['LastTradedPrice '].mode())"
   ]
  },
  {
   "cell_type": "code",
   "execution_count": null,
   "metadata": {},
   "outputs": [],
   "source": []
  }
 ],
 "metadata": {
  "kernelspec": {
   "display_name": "Python 3",
   "language": "python",
   "name": "python3"
  },
  "language_info": {
   "codemirror_mode": {
    "name": "ipython",
    "version": 3
   },
   "file_extension": ".py",
   "mimetype": "text/x-python",
   "name": "python",
   "nbconvert_exporter": "python",
   "pygments_lexer": "ipython3",
   "version": "3.7.4"
  }
 },
 "nbformat": 4,
 "nbformat_minor": 2
}
